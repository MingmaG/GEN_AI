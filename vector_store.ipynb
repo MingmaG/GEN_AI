{
  "nbformat": 4,
  "nbformat_minor": 0,
  "metadata": {
    "colab": {
      "provenance": [],
      "authorship_tag": "ABX9TyNUMn8ZduP6W6GttpdQdwUD",
      "include_colab_link": true
    },
    "kernelspec": {
      "name": "python3",
      "display_name": "Python 3"
    },
    "language_info": {
      "name": "python"
    }
  },
  "cells": [
    {
      "cell_type": "markdown",
      "metadata": {
        "id": "view-in-github",
        "colab_type": "text"
      },
      "source": [
        "<a href=\"https://colab.research.google.com/github/MingmaG/GEN_AI/blob/main/vector_store.ipynb\" target=\"_parent\"><img src=\"https://colab.research.google.com/assets/colab-badge.svg\" alt=\"Open In Colab\"/></a>"
      ]
    },
    {
      "cell_type": "code",
      "source": [
        "!pip install langchain chromadb langchain-community\n",
        "!pip install langchain-community langchain_openai langchain-core\n",
        "!pip install huggingface_hub\n",
        "!pip install transformers sentence-transformers\n"
      ],
      "metadata": {
        "colab": {
          "base_uri": "https://localhost:8080/"
        },
        "collapsed": true,
        "id": "jSxYbzEthJk1",
        "outputId": "db4253ea-174a-42d1-c444-3faefabc648b"
      },
      "execution_count": null,
      "outputs": [
        {
          "output_type": "stream",
          "name": "stdout",
          "text": [
            "Requirement already satisfied: langchain in /usr/local/lib/python3.12/dist-packages (0.3.27)\n",
            "Requirement already satisfied: chromadb in /usr/local/lib/python3.12/dist-packages (1.1.1)\n",
            "Requirement already satisfied: langchain-community in /usr/local/lib/python3.12/dist-packages (0.3.31)\n",
            "Requirement already satisfied: langchain-core<1.0.0,>=0.3.72 in /usr/local/lib/python3.12/dist-packages (from langchain) (0.3.78)\n",
            "Requirement already satisfied: langchain-text-splitters<1.0.0,>=0.3.9 in /usr/local/lib/python3.12/dist-packages (from langchain) (0.3.11)\n",
            "Requirement already satisfied: langsmith>=0.1.17 in /usr/local/lib/python3.12/dist-packages (from langchain) (0.4.33)\n",
            "Requirement already satisfied: pydantic<3.0.0,>=2.7.4 in /usr/local/lib/python3.12/dist-packages (from langchain) (2.11.10)\n",
            "Requirement already satisfied: SQLAlchemy<3,>=1.4 in /usr/local/lib/python3.12/dist-packages (from langchain) (2.0.43)\n",
            "Requirement already satisfied: requests<3,>=2 in /usr/local/lib/python3.12/dist-packages (from langchain) (2.32.5)\n",
            "Requirement already satisfied: PyYAML>=5.3 in /usr/local/lib/python3.12/dist-packages (from langchain) (6.0.3)\n",
            "Requirement already satisfied: build>=1.0.3 in /usr/local/lib/python3.12/dist-packages (from chromadb) (1.3.0)\n",
            "Requirement already satisfied: pybase64>=1.4.1 in /usr/local/lib/python3.12/dist-packages (from chromadb) (1.4.2)\n",
            "Requirement already satisfied: uvicorn>=0.18.3 in /usr/local/lib/python3.12/dist-packages (from uvicorn[standard]>=0.18.3->chromadb) (0.37.0)\n",
            "Requirement already satisfied: numpy>=1.22.5 in /usr/local/lib/python3.12/dist-packages (from chromadb) (2.0.2)\n",
            "Requirement already satisfied: posthog<6.0.0,>=2.4.0 in /usr/local/lib/python3.12/dist-packages (from chromadb) (5.4.0)\n",
            "Requirement already satisfied: typing-extensions>=4.5.0 in /usr/local/lib/python3.12/dist-packages (from chromadb) (4.15.0)\n",
            "Requirement already satisfied: onnxruntime>=1.14.1 in /usr/local/lib/python3.12/dist-packages (from chromadb) (1.23.1)\n",
            "Requirement already satisfied: opentelemetry-api>=1.2.0 in /usr/local/lib/python3.12/dist-packages (from chromadb) (1.37.0)\n",
            "Requirement already satisfied: opentelemetry-exporter-otlp-proto-grpc>=1.2.0 in /usr/local/lib/python3.12/dist-packages (from chromadb) (1.37.0)\n",
            "Requirement already satisfied: opentelemetry-sdk>=1.2.0 in /usr/local/lib/python3.12/dist-packages (from chromadb) (1.37.0)\n",
            "Requirement already satisfied: tokenizers>=0.13.2 in /usr/local/lib/python3.12/dist-packages (from chromadb) (0.22.1)\n",
            "Requirement already satisfied: pypika>=0.48.9 in /usr/local/lib/python3.12/dist-packages (from chromadb) (0.48.9)\n",
            "Requirement already satisfied: tqdm>=4.65.0 in /usr/local/lib/python3.12/dist-packages (from chromadb) (4.67.1)\n",
            "Requirement already satisfied: overrides>=7.3.1 in /usr/local/lib/python3.12/dist-packages (from chromadb) (7.7.0)\n",
            "Requirement already satisfied: importlib-resources in /usr/local/lib/python3.12/dist-packages (from chromadb) (6.5.2)\n",
            "Requirement already satisfied: grpcio>=1.58.0 in /usr/local/lib/python3.12/dist-packages (from chromadb) (1.75.1)\n",
            "Requirement already satisfied: bcrypt>=4.0.1 in /usr/local/lib/python3.12/dist-packages (from chromadb) (5.0.0)\n",
            "Requirement already satisfied: typer>=0.9.0 in /usr/local/lib/python3.12/dist-packages (from chromadb) (0.19.2)\n",
            "Requirement already satisfied: kubernetes>=28.1.0 in /usr/local/lib/python3.12/dist-packages (from chromadb) (34.1.0)\n",
            "Requirement already satisfied: tenacity>=8.2.3 in /usr/local/lib/python3.12/dist-packages (from chromadb) (8.5.0)\n",
            "Requirement already satisfied: mmh3>=4.0.1 in /usr/local/lib/python3.12/dist-packages (from chromadb) (5.2.0)\n",
            "Requirement already satisfied: orjson>=3.9.12 in /usr/local/lib/python3.12/dist-packages (from chromadb) (3.11.3)\n",
            "Requirement already satisfied: httpx>=0.27.0 in /usr/local/lib/python3.12/dist-packages (from chromadb) (0.28.1)\n",
            "Requirement already satisfied: rich>=10.11.0 in /usr/local/lib/python3.12/dist-packages (from chromadb) (13.9.4)\n",
            "Requirement already satisfied: jsonschema>=4.19.0 in /usr/local/lib/python3.12/dist-packages (from chromadb) (4.25.1)\n",
            "Requirement already satisfied: aiohttp<4.0.0,>=3.8.3 in /usr/local/lib/python3.12/dist-packages (from langchain-community) (3.13.0)\n",
            "Requirement already satisfied: dataclasses-json<0.7.0,>=0.6.7 in /usr/local/lib/python3.12/dist-packages (from langchain-community) (0.6.7)\n",
            "Requirement already satisfied: pydantic-settings<3.0.0,>=2.10.1 in /usr/local/lib/python3.12/dist-packages (from langchain-community) (2.11.0)\n",
            "Requirement already satisfied: httpx-sse<1.0.0,>=0.4.0 in /usr/local/lib/python3.12/dist-packages (from langchain-community) (0.4.2)\n",
            "Requirement already satisfied: aiohappyeyeballs>=2.5.0 in /usr/local/lib/python3.12/dist-packages (from aiohttp<4.0.0,>=3.8.3->langchain-community) (2.6.1)\n",
            "Requirement already satisfied: aiosignal>=1.4.0 in /usr/local/lib/python3.12/dist-packages (from aiohttp<4.0.0,>=3.8.3->langchain-community) (1.4.0)\n",
            "Requirement already satisfied: attrs>=17.3.0 in /usr/local/lib/python3.12/dist-packages (from aiohttp<4.0.0,>=3.8.3->langchain-community) (25.4.0)\n",
            "Requirement already satisfied: frozenlist>=1.1.1 in /usr/local/lib/python3.12/dist-packages (from aiohttp<4.0.0,>=3.8.3->langchain-community) (1.8.0)\n",
            "Requirement already satisfied: multidict<7.0,>=4.5 in /usr/local/lib/python3.12/dist-packages (from aiohttp<4.0.0,>=3.8.3->langchain-community) (6.7.0)\n",
            "Requirement already satisfied: propcache>=0.2.0 in /usr/local/lib/python3.12/dist-packages (from aiohttp<4.0.0,>=3.8.3->langchain-community) (0.3.2)\n",
            "Requirement already satisfied: yarl<2.0,>=1.17.0 in /usr/local/lib/python3.12/dist-packages (from aiohttp<4.0.0,>=3.8.3->langchain-community) (1.22.0)\n",
            "Requirement already satisfied: packaging>=19.1 in /usr/local/lib/python3.12/dist-packages (from build>=1.0.3->chromadb) (25.0)\n",
            "Requirement already satisfied: pyproject_hooks in /usr/local/lib/python3.12/dist-packages (from build>=1.0.3->chromadb) (1.2.0)\n",
            "Requirement already satisfied: marshmallow<4.0.0,>=3.18.0 in /usr/local/lib/python3.12/dist-packages (from dataclasses-json<0.7.0,>=0.6.7->langchain-community) (3.26.1)\n",
            "Requirement already satisfied: typing-inspect<1,>=0.4.0 in /usr/local/lib/python3.12/dist-packages (from dataclasses-json<0.7.0,>=0.6.7->langchain-community) (0.9.0)\n",
            "Requirement already satisfied: anyio in /usr/local/lib/python3.12/dist-packages (from httpx>=0.27.0->chromadb) (4.11.0)\n",
            "Requirement already satisfied: certifi in /usr/local/lib/python3.12/dist-packages (from httpx>=0.27.0->chromadb) (2025.10.5)\n",
            "Requirement already satisfied: httpcore==1.* in /usr/local/lib/python3.12/dist-packages (from httpx>=0.27.0->chromadb) (1.0.9)\n",
            "Requirement already satisfied: idna in /usr/local/lib/python3.12/dist-packages (from httpx>=0.27.0->chromadb) (3.10)\n",
            "Requirement already satisfied: h11>=0.16 in /usr/local/lib/python3.12/dist-packages (from httpcore==1.*->httpx>=0.27.0->chromadb) (0.16.0)\n",
            "Requirement already satisfied: jsonschema-specifications>=2023.03.6 in /usr/local/lib/python3.12/dist-packages (from jsonschema>=4.19.0->chromadb) (2025.9.1)\n",
            "Requirement already satisfied: referencing>=0.28.4 in /usr/local/lib/python3.12/dist-packages (from jsonschema>=4.19.0->chromadb) (0.36.2)\n",
            "Requirement already satisfied: rpds-py>=0.7.1 in /usr/local/lib/python3.12/dist-packages (from jsonschema>=4.19.0->chromadb) (0.27.1)\n",
            "Requirement already satisfied: six>=1.9.0 in /usr/local/lib/python3.12/dist-packages (from kubernetes>=28.1.0->chromadb) (1.17.0)\n",
            "Requirement already satisfied: python-dateutil>=2.5.3 in /usr/local/lib/python3.12/dist-packages (from kubernetes>=28.1.0->chromadb) (2.9.0.post0)\n",
            "Requirement already satisfied: google-auth>=1.0.1 in /usr/local/lib/python3.12/dist-packages (from kubernetes>=28.1.0->chromadb) (2.38.0)\n",
            "Requirement already satisfied: websocket-client!=0.40.0,!=0.41.*,!=0.42.*,>=0.32.0 in /usr/local/lib/python3.12/dist-packages (from kubernetes>=28.1.0->chromadb) (1.9.0)\n",
            "Requirement already satisfied: requests-oauthlib in /usr/local/lib/python3.12/dist-packages (from kubernetes>=28.1.0->chromadb) (2.0.0)\n",
            "Requirement already satisfied: urllib3<2.4.0,>=1.24.2 in /usr/local/lib/python3.12/dist-packages (from kubernetes>=28.1.0->chromadb) (2.3.0)\n",
            "Requirement already satisfied: durationpy>=0.7 in /usr/local/lib/python3.12/dist-packages (from kubernetes>=28.1.0->chromadb) (0.10)\n",
            "Requirement already satisfied: jsonpatch<2.0.0,>=1.33.0 in /usr/local/lib/python3.12/dist-packages (from langchain-core<1.0.0,>=0.3.72->langchain) (1.33)\n",
            "Requirement already satisfied: requests-toolbelt>=1.0.0 in /usr/local/lib/python3.12/dist-packages (from langsmith>=0.1.17->langchain) (1.0.0)\n",
            "Requirement already satisfied: zstandard>=0.23.0 in /usr/local/lib/python3.12/dist-packages (from langsmith>=0.1.17->langchain) (0.25.0)\n",
            "Requirement already satisfied: coloredlogs in /usr/local/lib/python3.12/dist-packages (from onnxruntime>=1.14.1->chromadb) (15.0.1)\n",
            "Requirement already satisfied: flatbuffers in /usr/local/lib/python3.12/dist-packages (from onnxruntime>=1.14.1->chromadb) (25.9.23)\n",
            "Requirement already satisfied: protobuf in /usr/local/lib/python3.12/dist-packages (from onnxruntime>=1.14.1->chromadb) (5.29.5)\n",
            "Requirement already satisfied: sympy in /usr/local/lib/python3.12/dist-packages (from onnxruntime>=1.14.1->chromadb) (1.13.3)\n",
            "Requirement already satisfied: importlib-metadata<8.8.0,>=6.0 in /usr/local/lib/python3.12/dist-packages (from opentelemetry-api>=1.2.0->chromadb) (8.7.0)\n",
            "Requirement already satisfied: googleapis-common-protos~=1.57 in /usr/local/lib/python3.12/dist-packages (from opentelemetry-exporter-otlp-proto-grpc>=1.2.0->chromadb) (1.70.0)\n",
            "Requirement already satisfied: opentelemetry-exporter-otlp-proto-common==1.37.0 in /usr/local/lib/python3.12/dist-packages (from opentelemetry-exporter-otlp-proto-grpc>=1.2.0->chromadb) (1.37.0)\n",
            "Requirement already satisfied: opentelemetry-proto==1.37.0 in /usr/local/lib/python3.12/dist-packages (from opentelemetry-exporter-otlp-proto-grpc>=1.2.0->chromadb) (1.37.0)\n",
            "Requirement already satisfied: opentelemetry-semantic-conventions==0.58b0 in /usr/local/lib/python3.12/dist-packages (from opentelemetry-sdk>=1.2.0->chromadb) (0.58b0)\n",
            "Requirement already satisfied: backoff>=1.10.0 in /usr/local/lib/python3.12/dist-packages (from posthog<6.0.0,>=2.4.0->chromadb) (2.2.1)\n",
            "Requirement already satisfied: distro>=1.5.0 in /usr/local/lib/python3.12/dist-packages (from posthog<6.0.0,>=2.4.0->chromadb) (1.9.0)\n",
            "Requirement already satisfied: annotated-types>=0.6.0 in /usr/local/lib/python3.12/dist-packages (from pydantic<3.0.0,>=2.7.4->langchain) (0.7.0)\n",
            "Requirement already satisfied: pydantic-core==2.33.2 in /usr/local/lib/python3.12/dist-packages (from pydantic<3.0.0,>=2.7.4->langchain) (2.33.2)\n",
            "Requirement already satisfied: typing-inspection>=0.4.0 in /usr/local/lib/python3.12/dist-packages (from pydantic<3.0.0,>=2.7.4->langchain) (0.4.2)\n",
            "Requirement already satisfied: python-dotenv>=0.21.0 in /usr/local/lib/python3.12/dist-packages (from pydantic-settings<3.0.0,>=2.10.1->langchain-community) (1.1.1)\n",
            "Requirement already satisfied: charset_normalizer<4,>=2 in /usr/local/lib/python3.12/dist-packages (from requests<3,>=2->langchain) (3.4.3)\n",
            "Requirement already satisfied: markdown-it-py>=2.2.0 in /usr/local/lib/python3.12/dist-packages (from rich>=10.11.0->chromadb) (4.0.0)\n",
            "Requirement already satisfied: pygments<3.0.0,>=2.13.0 in /usr/local/lib/python3.12/dist-packages (from rich>=10.11.0->chromadb) (2.19.2)\n",
            "Requirement already satisfied: greenlet>=1 in /usr/local/lib/python3.12/dist-packages (from SQLAlchemy<3,>=1.4->langchain) (3.2.4)\n",
            "Requirement already satisfied: huggingface-hub<2.0,>=0.16.4 in /usr/local/lib/python3.12/dist-packages (from tokenizers>=0.13.2->chromadb) (0.35.3)\n",
            "Requirement already satisfied: click>=8.0.0 in /usr/local/lib/python3.12/dist-packages (from typer>=0.9.0->chromadb) (8.3.0)\n",
            "Requirement already satisfied: shellingham>=1.3.0 in /usr/local/lib/python3.12/dist-packages (from typer>=0.9.0->chromadb) (1.5.4)\n",
            "Requirement already satisfied: httptools>=0.6.3 in /usr/local/lib/python3.12/dist-packages (from uvicorn[standard]>=0.18.3->chromadb) (0.7.1)\n",
            "Requirement already satisfied: uvloop>=0.15.1 in /usr/local/lib/python3.12/dist-packages (from uvicorn[standard]>=0.18.3->chromadb) (0.21.0)\n",
            "Requirement already satisfied: watchfiles>=0.13 in /usr/local/lib/python3.12/dist-packages (from uvicorn[standard]>=0.18.3->chromadb) (1.1.0)\n",
            "Requirement already satisfied: websockets>=10.4 in /usr/local/lib/python3.12/dist-packages (from uvicorn[standard]>=0.18.3->chromadb) (15.0.1)\n",
            "Requirement already satisfied: cachetools<6.0,>=2.0.0 in /usr/local/lib/python3.12/dist-packages (from google-auth>=1.0.1->kubernetes>=28.1.0->chromadb) (5.5.2)\n",
            "Requirement already satisfied: pyasn1-modules>=0.2.1 in /usr/local/lib/python3.12/dist-packages (from google-auth>=1.0.1->kubernetes>=28.1.0->chromadb) (0.4.2)\n",
            "Requirement already satisfied: rsa<5,>=3.1.4 in /usr/local/lib/python3.12/dist-packages (from google-auth>=1.0.1->kubernetes>=28.1.0->chromadb) (4.9.1)\n",
            "Requirement already satisfied: filelock in /usr/local/lib/python3.12/dist-packages (from huggingface-hub<2.0,>=0.16.4->tokenizers>=0.13.2->chromadb) (3.20.0)\n",
            "Requirement already satisfied: fsspec>=2023.5.0 in /usr/local/lib/python3.12/dist-packages (from huggingface-hub<2.0,>=0.16.4->tokenizers>=0.13.2->chromadb) (2025.3.0)\n",
            "Requirement already satisfied: hf-xet<2.0.0,>=1.1.3 in /usr/local/lib/python3.12/dist-packages (from huggingface-hub<2.0,>=0.16.4->tokenizers>=0.13.2->chromadb) (1.1.10)\n",
            "Requirement already satisfied: zipp>=3.20 in /usr/local/lib/python3.12/dist-packages (from importlib-metadata<8.8.0,>=6.0->opentelemetry-api>=1.2.0->chromadb) (3.23.0)\n",
            "Requirement already satisfied: jsonpointer>=1.9 in /usr/local/lib/python3.12/dist-packages (from jsonpatch<2.0.0,>=1.33.0->langchain-core<1.0.0,>=0.3.72->langchain) (3.0.0)\n",
            "Requirement already satisfied: mdurl~=0.1 in /usr/local/lib/python3.12/dist-packages (from markdown-it-py>=2.2.0->rich>=10.11.0->chromadb) (0.1.2)\n",
            "Requirement already satisfied: mypy-extensions>=0.3.0 in /usr/local/lib/python3.12/dist-packages (from typing-inspect<1,>=0.4.0->dataclasses-json<0.7.0,>=0.6.7->langchain-community) (1.1.0)\n",
            "Requirement already satisfied: sniffio>=1.1 in /usr/local/lib/python3.12/dist-packages (from anyio->httpx>=0.27.0->chromadb) (1.3.1)\n",
            "Requirement already satisfied: humanfriendly>=9.1 in /usr/local/lib/python3.12/dist-packages (from coloredlogs->onnxruntime>=1.14.1->chromadb) (10.0)\n",
            "Requirement already satisfied: oauthlib>=3.0.0 in /usr/local/lib/python3.12/dist-packages (from requests-oauthlib->kubernetes>=28.1.0->chromadb) (3.3.1)\n",
            "Requirement already satisfied: mpmath<1.4,>=1.1.0 in /usr/local/lib/python3.12/dist-packages (from sympy->onnxruntime>=1.14.1->chromadb) (1.3.0)\n",
            "Requirement already satisfied: pyasn1<0.7.0,>=0.6.1 in /usr/local/lib/python3.12/dist-packages (from pyasn1-modules>=0.2.1->google-auth>=1.0.1->kubernetes>=28.1.0->chromadb) (0.6.1)\n"
          ]
        }
      ]
    },
    {
      "cell_type": "code",
      "source": [
        "from huggingface_hub import login\n",
        "from sentence_transformers import SentenceTransformer\n",
        "\n",
        "hf_token = \"hf_FWIIISLWKuMNOABEDxzwjQSkpCEbURam\"\n",
        "login(hf_token)"
      ],
      "metadata": {
        "id": "azXjS989ilmS"
      },
      "execution_count": null,
      "outputs": []
    },
    {
      "cell_type": "code",
      "source": [
        "model = HuggingFaceEmbeddings(model_name='sentence-transformers/all-MiniLM-L6-v2')"
      ],
      "metadata": {
        "collapsed": true,
        "id": "CLRzGaD6ekYn"
      },
      "execution_count": null,
      "outputs": []
    },
    {
      "cell_type": "code",
      "source": [
        "sentences = [\n",
        "    'what is your name',\n",
        "    'I am Nepali'\n",
        "]\n",
        "embedded = model.embed_documents(sentences)\n",
        "print(embedded)\n"
      ],
      "metadata": {
        "colab": {
          "base_uri": "https://localhost:8080/"
        },
        "collapsed": true,
        "id": "6tR2Bfs6gPwe",
        "outputId": "936de4f0-5238-4a2d-c992-79d9e7e06aae"
      },
      "execution_count": null,
      "outputs": [
        {
          "output_type": "stream",
          "name": "stdout",
          "text": [
            "[[-0.07185039669275284, 0.03329799324274063, 0.02547474578022957, 0.02628723531961441, -0.05714616924524307, -0.04249054566025734, 0.17539693415164948, -0.022255273535847664, 0.06143518537282944, 0.005702488124370575, -0.04874107241630554, -0.12996812164783478, 0.04499742388725281, -0.034108374267816544, -0.03242511302232742, -0.011028178967535496, 0.024463780224323273, 0.03130440413951874, -0.10177114605903625, -0.0880526527762413, -0.10171739012002945, 0.03881379961967468, -0.05878493934869766, -0.01770128682255745, -0.04726884514093399, 0.03541528433561325, -0.029594706371426582, 0.0500899963080883, -0.025855228304862976, -0.12366403639316559, 0.04011086747050285, -0.05338606238365173, 0.10339538007974625, 0.06660550832748413, 0.00018430559430271387, -0.04693657532334328, -0.11863788217306137, 0.00955781526863575, -0.019044941291213036, -0.0064897118136286736, -0.019765721634030342, -0.11091035604476929, -0.020859630778431892, -0.011532405391335487, -0.0021487330086529255, 0.029748031869530678, 0.060663528740406036, 0.0678371861577034, 0.029888849705457687, 0.07350154221057892, -0.09551287442445755, -0.044836655259132385, -0.019242942333221436, 0.06098885089159012, 0.0052304817363619804, -0.0014267966616898775, -0.01933744177222252, 0.03590475022792816, -0.030302487313747406, 0.053927239030599594, -0.02115962840616703, -3.778106838581152e-05, -0.020381100475788116, 0.021322133019566536, -0.020951490849256516, 0.02173426002264023, 0.06213919445872307, -0.01194038800895214, -0.008983236737549305, -0.04418383538722992, -0.053521569818258286, 0.05363030731678009, 0.08032601326704025, 0.01662563532590866, -0.03202430531382561, -0.05971313267946243, -0.006091623567044735, -0.0121444808319211, 0.012290142476558685, 0.06907589733600616, -0.06084051728248596, -0.02864636853337288, -0.11939327418804169, -0.05170593410730362, -0.03285199776291847, 0.011264907196164131, 0.04996628686785698, 0.061334069818258286, -0.03995409235358238, -0.02391694486141205, -0.02329670824110508, -0.01871265098452568, 0.03543761372566223, 0.014360195025801659, -0.010516169480979443, -0.007988106459379196, 0.09576021879911423, 0.0017175024840980768, -0.10184309631586075, 0.13398227095603943, -0.032125093042850494, 0.024531014263629913, -0.03324759751558304, 0.02577121928334236, 0.026732053607702255, 0.033060889691114426, -0.039535071700811386, 0.005028931424021721, 0.02999313734471798, -0.07071782648563385, 0.014460258185863495, -0.027232062071561813, -0.06564895063638687, 0.048015933483839035, 0.030826754868030548, -0.02611127868294716, 0.00404408760368824, -0.027685511857271194, 0.0012608286924660206, -0.08578691631555557, 0.00457887165248394, 0.056924350559711456, -0.029536060988903046, -0.01997958868741989, -0.08332698047161102, 0.024312689900398254, -0.005034577567130327, -6.793117201212704e-33, -0.06448983401060104, 0.01167268492281437, 0.03592032194137573, 0.09754963219165802, -0.08402987569570541, 0.007226599846035242, -0.07465280592441559, 0.03398888558149338, -0.08032778650522232, -0.01551001612097025, 0.04948224499821663, -0.0015946837374940515, -0.008815479464828968, 0.04945835471153259, -0.030236635357141495, 0.12761718034744263, -0.009346705861389637, 0.04042842239141464, -0.0040006451308727264, 0.05802881717681885, -0.025199351832270622, 0.01910565234720707, -0.0039052749052643776, 0.04886852204799652, 0.004400547128170729, -0.09124226868152618, 0.014619112946093082, -0.0687333196401596, 0.06092212721705437, 0.042662568390369415, 0.028487548232078552, 0.012958239763975143, 0.03472930192947388, -0.021064454689621925, 0.04290711507201195, -0.05770576745271683, 0.0020006990525871515, -0.03591093793511391, -0.0260466355830431, 0.07152171432971954, 0.04602474719285965, -0.020926615223288536, -0.0367804579436779, 0.024409405887126923, -0.03570501133799553, -0.03664318472146988, 0.10514896363019943, -0.0022408501245081425, -0.06844805181026459, -0.07327328622341156, -0.057463742792606354, -0.045150429010391235, -0.09074026346206665, 0.08306031674146652, -0.096075139939785, -0.004914166405797005, 0.00932298693805933, 0.02283867821097374, -0.11106075346469879, -0.05822103098034859, 0.009402948431670666, 0.023734869435429573, -0.03295902535319328, 0.0639113113284111, -0.05705186352133751, -0.005516252014786005, 0.030298443511128426, -0.034875087440013885, 0.06794174760580063, 0.014592410065233707, -0.031095614656805992, -0.05915340036153793, 0.06583867967128754, 0.09260962903499603, 0.06412436068058014, 0.030009077861905098, -0.000950382265727967, 0.012684321962296963, -0.022368550300598145, 0.012447441928088665, 0.006699857767671347, 0.04591216892004013, -0.046305909752845764, 0.021211575716733932, 0.0037633373867720366, -0.019541168585419655, -0.012621922418475151, -0.05684271827340126, -0.06577445566654205, -0.05712602287530899, -0.050305258482694626, 0.007240008097141981, 0.11713744699954987, 0.026505431160330772, -0.09625411778688431, 1.9456404132566332e-33, -0.034710612148046494, -0.017173361033201218, -0.03194202110171318, 0.0035827169194817543, -0.01348893903195858, -0.09458740055561066, 0.024775292724370956, 0.08809278160333633, -0.04231130704283714, 0.05497114732861519, 0.026271797716617584, -0.06395300477743149, 0.06601493060588837, -0.013520174659788609, 0.08192814141511917, 0.059861354529857635, 0.0031531930435448885, 0.03052499145269394, -0.05028253048658371, -0.026403173804283142, -0.07384283095598221, 0.09186633676290512, -0.10538262873888016, -0.05675574764609337, 0.008550540544092655, -0.03350619599223137, 0.056385233998298645, 0.00880181323736906, 0.045684050768613815, -0.021721746772527695, -0.0639195442199707, 0.02113482542335987, -0.019778113812208176, -0.016904188320040703, -0.01744203455746174, 0.014081982895731926, -0.0008762841462157667, 0.008242885582149029, -0.04007589817047119, -0.07850991934537888, -0.019335512071847916, 0.06869225949048996, -0.05699830874800682, 0.05347253009676933, -0.02919352613389492, -0.0797201544046402, -0.0156187042593956, 0.006818631198257208, 0.034455206245183945, 0.0325099378824234, -0.04683007299900055, -0.023262612521648407, 0.002980975667014718, -0.03315046429634094, 0.0702102854847908, -0.0005936185480095446, 0.06259415298700333, 0.010755602270364761, -0.035895343869924545, 0.05031195655465126, 0.020010055974125862, 0.08089959621429443, 0.011633625254034996, 0.08117875456809998, 0.06130055710673332, -0.03827297315001488, -0.029370440170168877, -0.008941765874624252, -0.01353856734931469, -0.037898723036050797, -0.02570166252553463, -0.006770752836018801, -0.05895111709833145, -0.008078829385340214, -0.036928869783878326, -0.01832151971757412, 0.03783870488405228, -0.021355774253606796, -0.023574672639369965, 0.06383135914802551, 0.011847885325551033, 0.050694696605205536, -0.03599897772073746, 0.015267232432961464, -0.029989534988999367, -0.049958571791648865, 0.09690237790346146, 0.09492114186286926, 0.009780463762581348, -0.0010979558574035764, 0.10305162519216537, 0.08980178087949753, -0.025710176676511765, -0.06564085185527802, -0.08281680941581726, -1.6542351488624263e-08, 0.040690869092941284, -0.011483614332973957, 0.006254284176975489, 0.05402980372309685, 0.033106882125139236, 0.0630875751376152, -0.011775515973567963, 0.025273077189922333, -0.0030812176410108805, -0.0240003764629364, 0.03901873901486397, -0.022952519357204437, 0.02833355776965618, -0.013799665495753288, 0.07764102518558502, -0.043529968708753586, 0.014119071885943413, 0.047419071197509766, 0.0345023050904274, -0.010447138920426369, 0.00801708735525608, -0.030087832361459732, -0.01892291195690632, -0.04181613028049469, -0.02624383568763733, -0.012628678232431412, 0.07907332479953766, 0.05227579548954964, -0.09502096474170685, 0.06743837147951126, 0.02005426585674286, 0.11822251975536346, -0.042998816817998886, 0.08568314462900162, -0.05497429892420769, -0.010706070810556412, 0.012913958169519901, -0.01209054235368967, 0.05082863196730614, 0.0791807621717453, 0.022993117570877075, 0.04324185475707054, 0.056707434356212616, 0.0029279228765517473, -0.08072405308485031, 0.10282833874225616, 0.046764492988586426, -0.05904413387179375, -0.01659657619893551, 0.0023584202863276005, -0.023390432819724083, 0.014144728891551495, 0.05923984572291374, 0.048365913331508636, 0.1071915328502655, 0.04289069026708603, -0.006637237034738064, 0.06379566341638565, -0.011374127119779587, -0.060927361249923706, 0.0945843905210495, -0.005691288039088249, -0.06389018148183823, -0.03960546851158142], [0.0158510934561491, 0.0860518217086792, -0.03046978823840618, 0.055677630007267, -0.016604265198111534, -0.10858748108148575, 0.07320776581764221, -0.026675138622522354, 0.031856853514909744, -0.029411355033516884, 0.042960263788700104, -0.12857583165168762, -0.04067947342991829, -0.07931245118379593, 0.04342702776193619, -0.019512228667736053, -0.00819749478250742, -0.005997935775667429, -0.08619588613510132, -0.02492266520857811, -0.04390575736761093, 0.028958195820450783, -0.0055161272175610065, 0.014617396518588066, 0.01019273791462183, 0.0018366018775850534, 0.0692230761051178, -0.027221376076340675, 0.13443289697170258, -0.018421705812215805, -0.024410715326666832, -0.05409492552280426, -0.014483490958809853, 0.05761197954416275, -0.07774917036294937, 0.05989072099328041, -0.07311589270830154, 0.005271718837320805, 0.08786425739526749, 0.020200269296765327, 0.023019980639219284, -0.010019057430326939, 0.017990104854106903, -0.07887681573629379, 0.1063167154788971, 0.07840372622013092, -0.04031139239668846, -0.004443206824362278, -0.04180969297885895, 0.016387218609452248, -0.022158585488796234, 0.0471125990152359, 0.07146057486534119, 0.026115138083696365, 0.005955370608717203, -0.10839500278234482, -0.023747151717543602, -0.023088853806257248, -0.010231425985693932, 0.011256705038249493, 0.028155915439128876, 0.012349659577012062, -0.023888038471341133, 0.06315284967422485, -0.0410090908408165, 0.04531368613243103, -0.009352922439575195, -0.06944327801465988, 0.029040278866887093, -0.10152891278266907, -0.01949455216526985, 0.047851916402578354, 0.007951096631586552, 0.059921745210886, -0.03748386353254318, -0.13020062446594238, 0.05825599282979965, -0.022382047027349472, -0.04019750654697418, 0.04799829423427582, 0.009528783150017262, 0.01148626022040844, -0.03299553692340851, -0.029098009690642357, 0.006003538146615028, 0.020406220108270645, -0.0657980740070343, 0.09424617886543274, -0.07464386522769928, -0.07706267386674881, 0.016141187399625778, 0.07195263355970383, 0.023236071690917015, 0.07117325812578201, -0.025979608297348022, -0.03881567344069481, 0.050123561173677444, 0.07046279311180115, -0.0645841732621193, 0.13304093480110168, 0.006298733409494162, 0.014991787262260914, -0.08328628540039062, 0.032887112349271774, -0.06370166689157486, -0.037543244659900665, -0.07071574777364731, 0.03814462572336197, -0.013943744823336601, -0.05656823143362999, -0.05000898614525795, -0.011583910323679447, -0.02194286324083805, 0.03963513672351837, 0.08141025900840759, -0.022565020248293877, -0.03093993291258812, -0.01090195681899786, 0.03690561279654503, -0.03878060728311539, -0.06729140877723694, 0.05597342178225517, -0.10035738348960876, -0.004006980452686548, 0.03051391802728176, -0.1281883865594864, 0.019558819010853767, -5.857483207359674e-33, 0.0005638125585392118, 0.0048388829454779625, 0.026419520378112793, 0.018345749005675316, -0.03446836769580841, 0.012195730581879616, 0.025718718767166138, -0.036233291029930115, -0.03631991147994995, -0.04498754441738129, 0.07624010741710663, -0.0642523467540741, -0.09010697156190872, -0.05072074383497238, 0.02767234854400158, 0.13801179826259613, -0.014691651798784733, -0.006253848318010569, -0.05830083787441254, 0.05048826336860657, 0.007855972275137901, -0.014409421011805534, 0.02276531420648098, 0.026235846802592278, -0.04522867500782013, -0.06141693890094757, 0.08193463087081909, -0.03357379883527756, -0.0319766066968441, 0.007078703958541155, 0.04828021675348282, 0.03906865045428276, -0.033505022525787354, -0.01794917695224285, 0.004890626296401024, -0.04619087278842926, 0.023891111835837364, -0.015428420156240463, -0.0515177845954895, -0.009897036477923393, 0.028184613212943077, -0.004559392109513283, -0.00927220843732357, -0.019636498764157295, 0.02526240609586239, 0.09352526813745499, 0.04913166165351868, 0.007128383032977581, -0.07337959110736847, -0.03606010600924492, -0.03650098294019699, 0.06408087909221649, -0.03074319288134575, -0.00900625716894865, 0.03881267085671425, -0.11900865286588669, 0.020835770294070244, 0.0484112873673439, -0.045073121786117554, 0.026264481246471405, -0.053010113537311554, 0.0009504678891971707, -0.05242137983441353, 0.07799316197633743, -0.11429554224014282, -0.07127650082111359, 0.01917319744825363, 0.051411792635917664, 0.050266530364751816, -0.07106155157089233, 0.037061046808958054, -0.02324865572154522, 0.03386344760656357, 0.14028581976890564, -0.04670647531747818, 0.01404630858451128, 0.03777908533811569, -0.029789410531520844, 0.017271772027015686, 0.09718886762857437, -0.006504737306386232, 0.08993057906627655, 0.004411124624311924, -0.05659903213381767, 0.0881916880607605, -0.022787822410464287, -0.034830041229724884, -0.06556329876184464, 0.07358101010322571, 0.008107216097414494, 0.01308800932019949, 0.038879022002220154, 0.039303649216890335, 0.012651241384446621, -0.029088094830513, 3.0291929224163785e-33, -0.038912832736968994, -0.030925322324037552, -0.029243428260087967, -0.025472670793533325, 0.012773693539202213, 0.00016949469863902777, 0.09495556354522705, 0.06540843099355698, 0.026244493201375008, 0.05727507919073105, 0.06034616008400917, 0.020705299451947212, 0.07287852466106415, 0.11438528448343277, 0.0710599347949028, 0.043299600481987, 0.052873577922582626, 0.1064242273569107, 0.006291833706200123, 0.017651338130235672, -0.0549057237803936, 0.10391618311405182, -0.09952034801244736, 0.008985977619886398, 0.056454721838235855, -0.0023438776843249798, -0.05868395045399666, 0.06990770995616913, -0.047921594232320786, -0.04864351451396942, 0.050099246203899384, -0.028915977105498314, -0.07282127439975739, -0.0015422232681885362, -0.03393083065748215, 0.026967627927660942, -0.04532777518033981, -0.03181581199169159, 0.016617868095636368, 0.008717176504433155, -0.06229306012392044, 0.02913350984454155, -7.03592668287456e-05, 0.025478942319750786, 0.02772250771522522, -0.03785264119505882, 0.01983940601348877, -0.02714787982404232, -0.06989564001560211, -0.06803008168935776, -0.020406048744916916, -0.03336231783032417, 0.051598791033029556, -0.08116618543863297, 0.09416811168193817, -0.006644081324338913, -0.018941663205623627, -0.027474328875541687, -0.016477270051836967, -0.052603159099817276, -0.04708893969655037, 0.011439083144068718, 0.028342679142951965, 0.012237868271768093, -0.0731295719742775, -0.032495152205228806, 0.03564482927322388, -0.02607259526848793, 0.0841405838727951, -0.007793920114636421, 0.06705882400274277, 0.010598598048090935, -0.07932382822036743, -0.01378962118178606, 0.011223589070141315, -0.0157881211489439, -0.03319653123617172, 0.14150813221931458, 0.008607835508883, -0.027536455541849136, -0.08614667505025864, -0.03602047637104988, 0.020668141543865204, -0.035213980823755264, 0.0010796026326715946, -0.0023382853250950575, -0.007287099491804838, 0.014633596874773502, 0.06452338397502899, -0.04990340396761894, -0.00991849135607481, 0.02852868102490902, -0.03469020128250122, -0.0023891509044915438, 0.017561450600624084, -1.3275166743653699e-08, 0.00031302424031309783, -0.07753363996744156, 0.01996370404958725, -0.0035919854417443275, -0.016937272623181343, 0.0520375594496727, -0.028300946578383446, -0.01818244718015194, -0.08160096406936646, -0.07048988342285156, -0.014916714280843735, 0.02641415037214756, 0.04592156410217285, -0.011343397200107574, 0.021611953154206276, -0.04930570349097252, 0.07173087447881699, 0.06240874528884888, 0.03351619467139244, -0.032359588891267776, 0.04272749274969101, 0.0005298777250573039, 0.029079154133796692, 0.04884820058941841, -0.04830366373062134, 0.03278519585728645, 0.06353837251663208, -0.07310634851455688, -0.03899631276726723, 0.007840135134756565, -0.024805808439850807, 0.052042629569768906, -0.02790604904294014, -0.07313254475593567, -0.0009738237713463604, 0.02622723951935768, -0.01856868527829647, 0.007223500404506922, 0.07148382067680359, 0.05081057548522949, 0.08422622829675674, 0.04025743156671524, 0.01788630150258541, 0.05567045882344246, -0.06488271802663803, -0.02127186208963394, -0.01759384199976921, -0.03181326016783714, -0.017174160107970238, -0.09123136103153229, 0.010953929275274277, -0.05724755674600601, 0.04913703724741936, 0.05471047759056091, 0.10791069269180298, 0.01613698899745941, -0.010196120478212833, 0.02013435587286949, -0.053373243659734726, -0.00787268951535225, 0.13397255539894104, 0.0006702722748741508, -0.03449234738945961, -0.006155920214951038]]\n"
          ]
        }
      ]
    },
    {
      "cell_type": "code",
      "source": [
        "from langchain.vectorstores import Chroma\n",
        "from langchain.schema import Document\n",
        "from langchain_community.embeddings import HuggingFaceEmbeddings"
      ],
      "metadata": {
        "id": "o9eFwh8_iFn0"
      },
      "execution_count": null,
      "outputs": []
    },
    {
      "cell_type": "code",
      "source": [
        "docs = [\n",
        "    Document(\n",
        "        page_content=\"Mingmar Gyaltsen is a student of electronic and communication in Nepal\",\n",
        "             metadata={}),\n",
        "    Document(\n",
        "        page_content=\"Lionel Messi is an Argentine professional footballer who plays as a forward.\",\n",
        "        metadata={\"name\": \"Lionel Messi\", \"position\": \"Forward\", \"country\": \"Argentina\"}\n",
        "    ),\n",
        "    Document(\n",
        "        page_content=\"Cristiano Ronaldo is a Portuguese professional footballer who plays as a forward.\",\n",
        "        metadata={\"name\": \"Cristiano Ronaldo\", \"position\": \"Forward\", \"country\": \"Portugal\"}\n",
        "    ),\n",
        "    Document(\n",
        "        page_content=\"Neymar Jr. is a Brazilian professional footballer who plays as a forward.\",\n",
        "        metadata={\"name\": \"Neymar Jr.\", \"position\": \"Forward\", \"country\": \"Brazil\"}\n",
        "    ),\n",
        "    Document(\n",
        "        page_content=\"Kylian Mbappé is a French professional footballer who plays as a forward.\",\n",
        "        metadata={\"name\": \"Kylian Mbappé\", \"position\": \"Forward\", \"country\": \"France\"}\n",
        "    ),\n",
        "    Document(\n",
        "        page_content=\"Luka Modrić is a Croatian professional footballer who plays as a midfielder.\",\n",
        "        metadata={\"name\": \"Luka Modrić\", \"position\": \"Midfielder\", \"country\": \"Croatia\"}\n",
        "    )\n",
        "]\n"
      ],
      "metadata": {
        "id": "f-60Nwfui78s"
      },
      "execution_count": null,
      "outputs": []
    },
    {
      "cell_type": "code",
      "source": [
        "vector_store = Chroma(\n",
        "    embedding_function= model,\n",
        "    persist_directory='chroma_db',\n",
        "    collection_name=\"sample\"\n",
        ")"
      ],
      "metadata": {
        "id": "3OAJe4uyjWU0"
      },
      "execution_count": null,
      "outputs": []
    },
    {
      "cell_type": "code",
      "source": [
        "vector_store.add_documents(docs)"
      ],
      "metadata": {
        "colab": {
          "base_uri": "https://localhost:8080/"
        },
        "id": "_fHWkRUjkDRE",
        "outputId": "5157d976-c560-4330-c2b7-fe6a295b2c06"
      },
      "execution_count": null,
      "outputs": [
        {
          "output_type": "execute_result",
          "data": {
            "text/plain": [
              "['67bdf38c-6359-4a57-884d-eb96473db404',\n",
              " 'c7cbfa79-6187-4d73-a3fd-dd9f8785ace6',\n",
              " 'c7f793ac-5099-4779-a252-40dd2367be56',\n",
              " '1637d54b-49b9-411d-95c3-923f0e0618e7',\n",
              " '9bdaecc1-367f-46ff-b8a0-0988920c2777',\n",
              " 'a864bb83-f780-42d7-95b8-5941728c4437']"
            ]
          },
          "metadata": {},
          "execution_count": 50
        }
      ]
    },
    {
      "cell_type": "code",
      "source": [
        "#1 similarity_search in vector store\n",
        "results = vector_store.similarity_search('who is the player from france', k=3)\n",
        "for i in results:\n",
        "  print(i.page_content)"
      ],
      "metadata": {
        "colab": {
          "base_uri": "https://localhost:8080/"
        },
        "id": "_1UKYQWTkOmC",
        "outputId": "040962a4-d660-4708-badc-3ed59a0d930e"
      },
      "execution_count": null,
      "outputs": [
        {
          "output_type": "stream",
          "name": "stdout",
          "text": [
            "Kylian Mbappé is a French professional footballer who plays as a forward.\n",
            "Kylian Mbappé is a French professional footballer who plays as a forward.\n",
            "Neymar Jr. is a Brazilian professional footballer who plays as a forward.\n"
          ]
        }
      ]
    },
    {
      "cell_type": "code",
      "source": [
        "# 2 similarity search with score\n",
        "results2 = vector_store.similarity_search_with_score('Messi from argentina',k=3)\n",
        "for doc, score in results2:\n",
        "  print(score , doc.page_content)"
      ],
      "metadata": {
        "colab": {
          "base_uri": "https://localhost:8080/"
        },
        "id": "9XuX-xNGn56R",
        "outputId": "4a18d635-d39a-49c9-efea-08463194e65c"
      },
      "execution_count": null,
      "outputs": [
        {
          "output_type": "stream",
          "name": "stdout",
          "text": [
            "0.5094665288925171 Lionel Messi is an Argentine professional footballer who plays as a forward.\n",
            "0.5094665288925171 Lionel Messi is an Argentine professional footballer who plays as a forward.\n",
            "1.1923123598098755 Cristiano Ronaldo is a Portuguese professional footballer who plays as a forward.\n"
          ]
        }
      ]
    },
    {
      "cell_type": "code",
      "source": [
        "# 3 MMR (maximal Marginal Relevance) diverse still relecant documents\n",
        "results3 = vector_store.max_marginal_relevance_search(\"Best player in the Nepal\", k =2)\n",
        "results3"
      ],
      "metadata": {
        "colab": {
          "base_uri": "https://localhost:8080/"
        },
        "id": "Mk3WIj8lo4DB",
        "outputId": "4c29a3ec-4abc-4714-f7a1-03abadf4373e"
      },
      "execution_count": null,
      "outputs": [
        {
          "output_type": "execute_result",
          "data": {
            "text/plain": [
              "[Document(metadata={}, page_content='Bobby is a football player from india is also a best player'),\n",
              " Document(metadata={}, page_content='Mingmar Gyaltsen is a student of electronic and communication in Nepal')]"
            ]
          },
          "metadata": {},
          "execution_count": 54
        }
      ]
    },
    {
      "cell_type": "code",
      "source": [
        "# 4 add in vector store\n",
        "new_docs = [Document(page_content =\"Bobby is a football player from india is also a best player\")]\n",
        "vector_store.add_documents(new_docs)"
      ],
      "metadata": {
        "colab": {
          "base_uri": "https://localhost:8080/"
        },
        "id": "tp5sDZPHptBR",
        "outputId": "aa485ce5-a4e5-44eb-e590-603fc943ff61"
      },
      "execution_count": null,
      "outputs": [
        {
          "output_type": "execute_result",
          "data": {
            "text/plain": [
              "['19f54d06-f1c2-460c-b6cd-302d847b66ef']"
            ]
          },
          "metadata": {},
          "execution_count": 46
        }
      ]
    },
    {
      "cell_type": "code",
      "source": [
        "vector_store.delete(ids=['doc1'])"
      ],
      "metadata": {
        "id": "eOQ5pMFFptvQ"
      },
      "execution_count": null,
      "outputs": []
    },
    {
      "cell_type": "code",
      "source": [
        "#5 Use as a Retriever\n",
        "retriever = vector_store.as_retriever(search_type='similarity', search_kwargs={\"k\":3})\n",
        "retriever.get_relevant_documents(\"Best player\")"
      ],
      "metadata": {
        "colab": {
          "base_uri": "https://localhost:8080/"
        },
        "id": "7fHZ1SOoqmxn",
        "outputId": "0499ff31-b1e9-4d22-a6e8-d0d8a5782f54"
      },
      "execution_count": null,
      "outputs": [
        {
          "output_type": "execute_result",
          "data": {
            "text/plain": [
              "[Document(metadata={}, page_content='Bobby is a football player from india is also a best player'),\n",
              " Document(metadata={'country': 'Argentina', 'name': 'Lionel Messi', 'position': 'Forward'}, page_content='Lionel Messi is an Argentine professional footballer who plays as a forward.'),\n",
              " Document(metadata={'name': 'Lionel Messi', 'country': 'Argentina', 'position': 'Forward'}, page_content='Lionel Messi is an Argentine professional footballer who plays as a forward.')]"
            ]
          },
          "metadata": {},
          "execution_count": 61
        }
      ]
    },
    {
      "cell_type": "code",
      "source": [
        "data = vector_store.get()\n",
        "print(data.keys())"
      ],
      "metadata": {
        "colab": {
          "base_uri": "https://localhost:8080/"
        },
        "id": "2r3F4VSqr2pY",
        "outputId": "27fbffe4-c9c0-4ef0-fb70-269b1687add1"
      },
      "execution_count": null,
      "outputs": [
        {
          "output_type": "stream",
          "name": "stdout",
          "text": [
            "dict_keys(['ids', 'embeddings', 'documents', 'uris', 'included', 'data', 'metadatas'])\n"
          ]
        }
      ]
    },
    {
      "cell_type": "code",
      "source": [
        "#5 count documents\n",
        "count = vector_store._collection.count()\n",
        "count"
      ],
      "metadata": {
        "colab": {
          "base_uri": "https://localhost:8080/"
        },
        "id": "S_Pmi3yhuK_W",
        "outputId": "6728fd55-3734-48dd-e329-7086a48a03ee"
      },
      "execution_count": null,
      "outputs": [
        {
          "output_type": "execute_result",
          "data": {
            "text/plain": [
              "13"
            ]
          },
          "metadata": {},
          "execution_count": 72
        }
      ]
    },
    {
      "cell_type": "code",
      "source": [
        "#6 get all docs and metadata\n",
        "vector_store.get()"
      ],
      "metadata": {
        "colab": {
          "base_uri": "https://localhost:8080/"
        },
        "id": "aM-1bIueunZu",
        "outputId": "b339f32a-184b-4400-8c12-e01df0415620"
      },
      "execution_count": null,
      "outputs": [
        {
          "output_type": "execute_result",
          "data": {
            "text/plain": [
              "{'ids': ['02ee93c3-1870-4c52-9a84-9096197bfe0b',\n",
              "  'a12840aa-9bd4-410b-8fa6-5b78cb7d9b15',\n",
              "  '70932c07-b1d7-4fe6-a639-3520443d856c',\n",
              "  'a5b671d3-d8e2-4a08-b421-b41a9d8bed1b',\n",
              "  'f32fd345-46a7-4e0d-904f-a10b2b0ceae3',\n",
              "  'af014d68-e1f8-4617-86f7-9de12a7e3785',\n",
              "  '19f54d06-f1c2-460c-b6cd-302d847b66ef',\n",
              "  'c7cbfa79-6187-4d73-a3fd-dd9f8785ace6',\n",
              "  'c7f793ac-5099-4779-a252-40dd2367be56',\n",
              "  '1637d54b-49b9-411d-95c3-923f0e0618e7',\n",
              "  '9bdaecc1-367f-46ff-b8a0-0988920c2777',\n",
              "  'a864bb83-f780-42d7-95b8-5941728c4437',\n",
              "  '67bdf38c-6359-4a57-884d-eb96473db404'],\n",
              " 'embeddings': None,\n",
              " 'documents': ['Lionel Messi is an Argentine professional footballer who plays as a forward.',\n",
              "  'Cristiano Ronaldo is a Portuguese professional footballer who plays as a forward.',\n",
              "  'Neymar Jr. is a Brazilian professional footballer who plays as a forward.',\n",
              "  'Kylian Mbappé is a French professional footballer who plays as a forward.',\n",
              "  'Luka Modrić is a Croatian professional footballer who plays as a midfielder.',\n",
              "  '',\n",
              "  'Bobby is a football player from india is also a best player',\n",
              "  'Lionel Messi is an Argentine professional footballer who plays as a forward.',\n",
              "  'Cristiano Ronaldo is a Portuguese professional footballer who plays as a forward.',\n",
              "  'Neymar Jr. is a Brazilian professional footballer who plays as a forward.',\n",
              "  'Kylian Mbappé is a French professional footballer who plays as a forward.',\n",
              "  'Luka Modrić is a Croatian professional footballer who plays as a midfielder.',\n",
              "  'Mingmar Gyaltsen is a student of electronic and communication in Nepal'],\n",
              " 'uris': None,\n",
              " 'included': ['metadatas', 'documents'],\n",
              " 'data': None,\n",
              " 'metadatas': [{'position': 'Forward',\n",
              "   'country': 'Argentina',\n",
              "   'name': 'Lionel Messi'},\n",
              "  {'country': 'Portugal', 'name': 'Cristiano Ronaldo', 'position': 'Forward'},\n",
              "  {'country': 'Brazil', 'position': 'Forward', 'name': 'Neymar Jr.'},\n",
              "  {'name': 'Kylian Mbappé', 'position': 'Forward', 'country': 'France'},\n",
              "  {'position': 'Midfielder', 'name': 'Luka Modrić', 'country': 'Croatia'},\n",
              "  None,\n",
              "  None,\n",
              "  {'name': 'Lionel Messi', 'position': 'Forward', 'country': 'Argentina'},\n",
              "  {'position': 'Forward', 'name': 'Cristiano Ronaldo', 'country': 'Portugal'},\n",
              "  {'country': 'Brazil', 'name': 'Neymar Jr.', 'position': 'Forward'},\n",
              "  {'country': 'France', 'position': 'Forward', 'name': 'Kylian Mbappé'},\n",
              "  {'name': 'Luka Modrić', 'country': 'Croatia', 'position': 'Midfielder'},\n",
              "  None]}"
            ]
          },
          "metadata": {},
          "execution_count": 73
        }
      ]
    },
    {
      "cell_type": "code",
      "source": [],
      "metadata": {
        "id": "dbX83QdsuoSF"
      },
      "execution_count": null,
      "outputs": []
    }
  ]
}